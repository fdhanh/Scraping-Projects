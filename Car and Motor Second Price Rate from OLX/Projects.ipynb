{
 "metadata": {
  "language_info": {
   "codemirror_mode": {
    "name": "ipython",
    "version": 3
   },
   "file_extension": ".py",
   "mimetype": "text/x-python",
   "name": "python",
   "nbconvert_exporter": "python",
   "pygments_lexer": "ipython3",
   "version": "3.7.6-final"
  },
  "orig_nbformat": 2,
  "kernelspec": {
   "name": "python3",
   "display_name": "Python 3"
  }
 },
 "nbformat": 4,
 "nbformat_minor": 2,
 "cells": [
  {
   "cell_type": "code",
   "execution_count": 13,
   "metadata": {},
   "outputs": [],
   "source": [
    "from selenium import webdriver\n",
    "import pandas as pd\n",
    "import numpy as np\n",
    "from time import sleep"
   ]
  },
  {
   "cell_type": "code",
   "execution_count": 14,
   "metadata": {},
   "outputs": [],
   "source": [
    "path = \"chromedriver.exe\"\n",
    "home = \"https://www.olx.co.id/\"\n",
    "\n",
    "driver = webdriver.Chrome(path)\n",
    "driver.get(home)"
   ]
  },
  {
   "cell_type": "code",
   "execution_count": 15,
   "metadata": {},
   "outputs": [
    {
     "output_type": "stream",
     "name": "stdout",
     "text": [
      "Mobil Bekas\nMotor Bekas\n"
     ]
    }
   ],
   "source": [
    "category = driver.find_elements_by_class_name(\"_3AGJR._18NX_\")[:2]\n",
    "print(category[0].text)\n",
    "print(category[1].text)\n",
    "\n",
    "mobil_bekas = []\n",
    "motor_bekas = []"
   ]
  },
  {
   "cell_type": "code",
   "execution_count": 16,
   "metadata": {},
   "outputs": [],
   "source": [
    "# Mobil bekas di kategori 1\n",
    "category[0].click()\n",
    "\n",
    "#Mau ambil berapa banyak? 1 muatan ada 20 iklan, karena tidak berbentuk page, maka diambil berapa banyak klik \"muat lebih\"\n",
    "sleep(3)\n",
    "for click in range(0,5):\n",
    "    driver.find_element_by_class_name(\"rui-3sH3b.rui-3K5JC.rui-1zK8h\").click()\n",
    "    sleep(2)"
   ]
  },
  {
   "cell_type": "code",
   "execution_count": 7,
   "metadata": {},
   "outputs": [],
   "source": [
    "cardlist = driver.find_elements_by_class_name(\"EIR5N\")"
   ]
  },
  {
   "cell_type": "code",
   "execution_count": 8,
   "metadata": {},
   "outputs": [],
   "source": [
    "link_temp = []\n",
    "for item in cardlist: \n",
    "    tipe = item.find_element_by_class_name(\"_2tW1I\").text \n",
    "    harga = item.find_element_by_class_name(\"_89yzn\").text\n",
    "    harga = harga.replace(\"Rp \", \"\")\n",
    "    harga = harga.replace(\".\", \"\")\n",
    "    \n",
    "    #ubah range harga\n",
    "    batas_bawah = 20000000\n",
    "    batas_atas = 500000000\n",
    "\n",
    "    if batas_bawah < int(harga) < batas_atas:\n",
    "        link_temp.append(item.find_element_by_tag_name(\"a\").get_attribute(\"href\"))"
   ]
  },
  {
   "cell_type": "code",
   "execution_count": 9,
   "metadata": {},
   "outputs": [
    {
     "output_type": "error",
     "ename": "NameError",
     "evalue": "name 'motor' is not defined",
     "traceback": [
      "\u001b[1;31m---------------------------------------------------------------------------\u001b[0m",
      "\u001b[1;31mNameError\u001b[0m                                 Traceback (most recent call last)",
      "\u001b[1;32m<ipython-input-9-48395fe3815d>\u001b[0m in \u001b[0;36m<module>\u001b[1;34m\u001b[0m\n\u001b[0;32m      7\u001b[0m         \u001b[0mtemp_dict\u001b[0m\u001b[1;33m[\u001b[0m\u001b[0mdetail\u001b[0m\u001b[1;33m[\u001b[0m\u001b[0midx\u001b[0m\u001b[1;33m]\u001b[0m\u001b[1;33m.\u001b[0m\u001b[0mtext\u001b[0m\u001b[1;33m]\u001b[0m \u001b[1;33m=\u001b[0m \u001b[0mentity\u001b[0m\u001b[1;33m[\u001b[0m\u001b[0midx\u001b[0m\u001b[1;33m]\u001b[0m\u001b[1;33m.\u001b[0m\u001b[0mtext\u001b[0m\u001b[1;33m\u001b[0m\u001b[1;33m\u001b[0m\u001b[0m\n\u001b[0;32m      8\u001b[0m     \u001b[0mtemp_dict\u001b[0m\u001b[1;33m[\u001b[0m\u001b[1;34m'url'\u001b[0m\u001b[1;33m]\u001b[0m \u001b[1;33m=\u001b[0m \u001b[0miklan\u001b[0m\u001b[1;33m\u001b[0m\u001b[1;33m\u001b[0m\u001b[0m\n\u001b[1;32m----> 9\u001b[1;33m     \u001b[0mmotor\u001b[0m\u001b[1;33m.\u001b[0m\u001b[0mappend\u001b[0m\u001b[1;33m(\u001b[0m\u001b[0mtemp_dict\u001b[0m\u001b[1;33m)\u001b[0m\u001b[1;33m\u001b[0m\u001b[1;33m\u001b[0m\u001b[0m\n\u001b[0m",
      "\u001b[1;31mNameError\u001b[0m: name 'motor' is not defined"
     ]
    }
   ],
   "source": [
    "for iklan in link_temp:\n",
    "    driver.get(iklan)\n",
    "    detail = driver.find_elements_by_class_name(\"_25oXN\")\n",
    "    entity = driver.find_elements_by_class_name(\"_2vNpt\")\n",
    "    temp_dict = {}\n",
    "    for idx in range(len(detail)):\n",
    "        temp_dict[detail[idx].text] = entity[idx].text\n",
    "    temp_dict['url'] = iklan\n",
    "    mobil_bekas.append(temp_dict)"
   ]
  },
  {
   "cell_type": "code",
   "execution_count": 127,
   "metadata": {},
   "outputs": [],
   "source": [
    "import pandas as pd\n",
    "pd.DataFrame(mobil_bekas).to_excel(\"Mobil Bekas.xlsx\")"
   ]
  },
  {
   "cell_type": "code",
   "execution_count": 27,
   "metadata": {},
   "outputs": [
    {
     "output_type": "stream",
     "name": "stdout",
     "text": [
      "https://www.olx.co.id/item/karimun-wagon-r-tipe-gl-tahun-2017-manual-iid-802090105\n",
      "https://www.olx.co.id/item/suzuki-karimun-th-2003-full-super-orisinil-pmk-terawat-iid-807712459\n",
      "https://www.olx.co.id/item/yamaha-nmax-hitam-doff-2018-harga-13jt-full-orisinil-pajak-hiduptaat-iid-807711909\n",
      "https://www.olx.co.id/item/honda-scoopy-pgm-fi-2018-harga-7jt-kondisi-mulus-surat-lengkap-iid-807711699\n",
      "https://www.olx.co.id/item/yamaha-nmax-hrg-13jt-surat-komplit-iid-807711671\n",
      "https://www.olx.co.id/item/yamaha-nmax-2018-abs-155cc-surat-surat-lengkap-iid-807711649\n",
      "https://www.olx.co.id/item/honda-scoopy-2018-surat-lengkap-mulus-iid-807711578\n",
      "https://www.olx.co.id/item/honda-scoopy-fi-surat-komplit-iid-807711545\n",
      "https://www.olx.co.id/item/yamaha-nmax-hrg-13jt-155cc-lengkap-iid-807711087\n",
      "https://www.olx.co.id/item/honda-scoopy-fi-hrg-8jt-lengkap-iid-807711015\n"
     ]
    }
   ],
   "source": [
    "from selenium import webdriver\n",
    "import pandas as pd\n",
    "import numpy as np\n",
    "from time import sleep \n",
    "\n",
    "path = \"chromedriver.exe\"\n",
    "home = [\"https://www.olx.co.id/mobil-bekas_c198\", \"https://www.olx.co.id/motor-bekas_c200\"]\n",
    "\n",
    "driver = webdriver.Chrome(path)\n",
    " \n",
    "mobil_bekas = []\n",
    "motor_bekas = []\n",
    "\n",
    "for cat in range(2): \n",
    "    #Mau ambil berapa banyak? 1 muatan ada sekitar 20 iklan, karena tidak berbentuk page, maka diambil berapa banyak klik \"muat lebih\"\n",
    "    driver.get(home[cat])\n",
    "    sleep(3)\n",
    "    for click in range(10):\n",
    "        driver.find_element_by_class_name(\"rui-3sH3b.rui-3K5JC.rui-1zK8h\").click()\n",
    "        sleep(2)\n",
    "\n",
    "    cardlist = driver.find_elements_by_class_name(\"EIR5N\")\n",
    "\n",
    "    link_temp = []\n",
    "    for item in cardlist: \n",
    "        tipe = item.find_element_by_class_name(\"_2tW1I\").text \n",
    "        harga = item.find_element_by_class_name(\"_89yzn\").text\n",
    "        harga = harga.replace(\"Rp \", \"\")\n",
    "        harga = harga.replace(\".\", \"\")\n",
    "        \n",
    "        #ubah range harga\n",
    "        batas_bawah = 0\n",
    "        batas_atas = 100000000\n",
    "\n",
    "        if batas_bawah < int(harga) < batas_atas:\n",
    "            link_temp.append(item.find_element_by_tag_name(\"a\").get_attribute(\"href\"))\n",
    "\n",
    "    for iklan in link_temp:\n",
    "        driver.get(iklan)\n",
    "        try:\n",
    "            detail = driver.find_elements_by_class_name(\"_25oXN\")\n",
    "            entity = driver.find_elements_by_class_name(\"_2vNpt\")\n",
    "            temp_dict = {}\n",
    "            for idx in range(len(detail)):\n",
    "                temp_dict[detail[idx].text] = entity[idx].text\n",
    "            temp_dict['url'] = iklan\n",
    "            temp_dict['Harga'] = driver.find_element_by_class_name(\"_2xKfz\").text\n",
    "            if cat == 0:\n",
    "                mobil_bekas.append(temp_dict)\n",
    "            if cat == 1:\n",
    "                motor_bekas.append(temp_dict)\n",
    "        except:\n",
    "            print(iklan)\n",
    "            pass\n",
    "\n",
    "driver.close()\n",
    "\n"
   ]
  },
  {
   "cell_type": "code",
   "execution_count": 28,
   "metadata": {},
   "outputs": [],
   "source": [
    "\n",
    "pd.DataFrame(mobil_bekas).to_excel(\"Mobil_Bekas.xlsx\")\n",
    "pd.DataFrame(motor_bekas).to_excel(\"Motor_Bekas.xlsx\")"
   ]
  },
  {
   "cell_type": "code",
   "execution_count": 1,
   "metadata": {},
   "outputs": [
    {
     "output_type": "stream",
     "name": "stdout",
     "text": [
      "https://www.olx.co.id/item/wts-nu0-custom-modifikasi-murah-aja-bukan-mobil-iid-807782845\n",
      "https://www.olx.co.id/item/honda-jazz-rs-2010-matic-moonroof-iid-807776987\n",
      "https://www.olx.co.id/item/honda-vario-125-2019-pjk-panjang-siap-pakai-istimewa-iid-807782086\n"
     ]
    }
   ],
   "source": [
    "from selenium import webdriver\n",
    "import pandas as pd\n",
    "import numpy as np\n",
    "from time import sleep \n",
    "\n",
    "path = \"chromedriver.exe\"\n",
    "home = [\"https://www.olx.co.id/mobil-bekas_c198\", \"https://www.olx.co.id/motor-bekas_c200\"]\n",
    "\n",
    "driver = webdriver.Chrome(path)\n",
    " \n",
    "mobil_bekas = []\n",
    "motor_bekas = []\n",
    "\n",
    "for cat in range(2): \n",
    "    driver.get(home[cat])\n",
    "    sleep(3)\n",
    "    #Mau ambil berapa banyak? 1 muatan ada sekitar 20 iklan, karena tidak berbentuk page, maka diambil berapa banyak klik \"muat lebih\"\n",
    "    for click in range(20):\n",
    "        driver.find_element_by_class_name(\"rui-3sH3b.rui-3K5JC.rui-1zK8h\").click()\n",
    "        sleep(2)\n",
    "\n",
    "    cardlist = driver.find_elements_by_class_name(\"EIR5N\")\n",
    "\n",
    "    link_temp = []\n",
    "    for item in cardlist: \n",
    "        tipe = item.find_element_by_class_name(\"_2tW1I\").text \n",
    "        harga = item.find_element_by_class_name(\"_89yzn\").text\n",
    "        harga = harga.replace(\"Rp \", \"\")\n",
    "        harga = harga.replace(\".\", \"\")\n",
    "        \n",
    "        #ubah range harga\n",
    "        if cat == 0:\n",
    "            batas_bawah = 0\n",
    "            batas_atas = 500000000\n",
    "        else:\n",
    "            batas_bawah = 0\n",
    "            batas_atas = 20000000\n",
    "\n",
    "        if batas_bawah < int(harga) < batas_atas:\n",
    "            link_temp.append(item.find_element_by_tag_name(\"a\").get_attribute(\"href\"))\n",
    "\n",
    "    for iklan in link_temp:\n",
    "        driver.get(iklan)\n",
    "        try:\n",
    "            detail = driver.find_elements_by_class_name(\"_25oXN\")\n",
    "            entity = driver.find_elements_by_class_name(\"_2vNpt\")\n",
    "            temp_dict = {}\n",
    "            for idx in range(len(detail)):\n",
    "                temp_dict[detail[idx].text] = entity[idx].text\n",
    "            temp_dict['url'] = iklan\n",
    "            temp_dict['Harga'] = driver.find_element_by_class_name(\"_2xKfz\").text\n",
    "            if cat == 0:\n",
    "                mobil_bekas.append(temp_dict)\n",
    "            if cat == 1:\n",
    "                motor_bekas.append(temp_dict)\n",
    "        except:\n",
    "            print(iklan)\n",
    "            pass\n",
    "\n",
    "driver.close()\n",
    "\n",
    "\n",
    "pd.DataFrame(mobil_bekas).to_excel(\"Mobil_Bekas.xlsx\")\n",
    "pd.DataFrame(motor_bekas).to_excel(\"Motor_Bekas.xlsx\")"
   ]
  },
  {
   "cell_type": "code",
   "execution_count": 2,
   "metadata": {},
   "outputs": [
    {
     "output_type": "execute_result",
     "data": {
      "text/plain": [
       "             Merek          Model                 Varian Tahun  \\\n",
       "0            Honda           CR-V             2.4 Bensin  2011   \n",
       "1           Toyota  Kijang Innova            2.5 G Solar  2009   \n",
       "2           Toyota  Kijang Innova            2.4 G Solar  2017   \n",
       "3           Nissan          March                   1.2L  2013   \n",
       "4           Toyota         Avanza       1.5 Veloz Bensin  2012   \n",
       "..             ...            ...                    ...   ...   \n",
       "387       Daihatsu          Sigra    1.2 R Deluxe Bensin  2016   \n",
       "388         Toyota         Avanza           1.3 G Bensin  2008   \n",
       "389         Toyota        Corolla          1.6 AE Bensin  1996   \n",
       "390  Mercedes-Benz           C200  1.8 W204 Sedan Bensin  2011   \n",
       "391         Toyota           Vios           1.5 G Bensin  2007   \n",
       "\n",
       "           Jarak tempuh Tipe bahan bakar    Warna  Transmisi  \\\n",
       "0    115.000-120.000 km           Bensin    Hitam  Automatic   \n",
       "1     95.000-100.000 km           Diesel    Hitam     Manual   \n",
       "2      75.000-80.000 km           Diesel    Putih     Manual   \n",
       "3      90.000-95.000 km           Bensin    Hitam  Automatic   \n",
       "4    110.000-115.000 km           Bensin    Hitam  Automatic   \n",
       "..                  ...              ...      ...        ...   \n",
       "387    20.000-25.000 km           Bensin  Abu-abu     Manual   \n",
       "388  125.000-130.000 km           Bensin   Silver     Manual   \n",
       "389  210.000-215.000 km           Bensin  Abu-abu     Manual   \n",
       "390    40.000-45.000 km           Bensin    Hitam  Automatic   \n",
       "391  135.000-140.000 km           Bensin    Hitam  Automatic   \n",
       "\n",
       "              Tipe bodi    Kapasitas mesin Tipe Penjual  \\\n",
       "0                   SUV  >2.000 - 3.000 cc        Diler   \n",
       "1                   MPV  >2.000 - 3.000 cc        Diler   \n",
       "2                   NaN                NaN          NaN   \n",
       "3    Compact & City Car  >1.000 - 1.500 cc        Diler   \n",
       "4               Minibus  >1.000 - 1.500 cc     Individu   \n",
       "..                  ...                ...          ...   \n",
       "387  Compact & City Car  >1.000 - 1.500 cc        Diler   \n",
       "388             Minibus  >1.000 - 1.500 cc     Individu   \n",
       "389               Sedan  >1.500 - 2.000 cc     Individu   \n",
       "390               Sedan  >1.500 - 2.000 cc        Diler   \n",
       "391               Sedan  >1.000 - 1.500 cc        Diler   \n",
       "\n",
       "                                                   url           Harga  \\\n",
       "0    https://www.olx.co.id/item/olx-autos-honda-c-r...  Rp 153.000.000   \n",
       "1    https://www.olx.co.id/item/toyota-innova-g-die...  Rp 143.500.000   \n",
       "2    https://www.olx.co.id/item/innova-reborn-g-die...  Rp 280.000.000   \n",
       "3    https://www.olx.co.id/item/nissan-march-12-l-m...   Rp 80.000.000   \n",
       "4    https://www.olx.co.id/item/di-jual-avanza-velo...  Rp 120.000.000   \n",
       "..                                                 ...             ...   \n",
       "387  https://www.olx.co.id/item/sigra-type-paling-t...   Rp 97.000.000   \n",
       "388  https://www.olx.co.id/item/avanza-2008-ad-kara...   Rp 88.000.000   \n",
       "389  https://www.olx.co.id/item/all-new-corolla-160...   Rp 49.000.000   \n",
       "390  https://www.olx.co.id/item/c200-cgi-2011-model...  Rp 199.000.000   \n",
       "391  https://www.olx.co.id/item/toyota-vios-g-matic...   Rp 69.950.000   \n",
       "\n",
       "                  Nama Bursa Mobil  \n",
       "0                              NaN  \n",
       "1                              NaN  \n",
       "2                              NaN  \n",
       "3    Bursa Mobil Mangga Dua Square  \n",
       "4                              NaN  \n",
       "..                             ...  \n",
       "387                            NaN  \n",
       "388                            NaN  \n",
       "389                            NaN  \n",
       "390                            NaN  \n",
       "391         Bursa mobil Bella Tera  \n",
       "\n",
       "[392 rows x 14 columns]"
      ],
      "text/html": "<div>\n<style scoped>\n    .dataframe tbody tr th:only-of-type {\n        vertical-align: middle;\n    }\n\n    .dataframe tbody tr th {\n        vertical-align: top;\n    }\n\n    .dataframe thead th {\n        text-align: right;\n    }\n</style>\n<table border=\"1\" class=\"dataframe\">\n  <thead>\n    <tr style=\"text-align: right;\">\n      <th></th>\n      <th>Merek</th>\n      <th>Model</th>\n      <th>Varian</th>\n      <th>Tahun</th>\n      <th>Jarak tempuh</th>\n      <th>Tipe bahan bakar</th>\n      <th>Warna</th>\n      <th>Transmisi</th>\n      <th>Tipe bodi</th>\n      <th>Kapasitas mesin</th>\n      <th>Tipe Penjual</th>\n      <th>url</th>\n      <th>Harga</th>\n      <th>Nama Bursa Mobil</th>\n    </tr>\n  </thead>\n  <tbody>\n    <tr>\n      <th>0</th>\n      <td>Honda</td>\n      <td>CR-V</td>\n      <td>2.4 Bensin</td>\n      <td>2011</td>\n      <td>115.000-120.000 km</td>\n      <td>Bensin</td>\n      <td>Hitam</td>\n      <td>Automatic</td>\n      <td>SUV</td>\n      <td>&gt;2.000 - 3.000 cc</td>\n      <td>Diler</td>\n      <td>https://www.olx.co.id/item/olx-autos-honda-c-r...</td>\n      <td>Rp 153.000.000</td>\n      <td>NaN</td>\n    </tr>\n    <tr>\n      <th>1</th>\n      <td>Toyota</td>\n      <td>Kijang Innova</td>\n      <td>2.5 G Solar</td>\n      <td>2009</td>\n      <td>95.000-100.000 km</td>\n      <td>Diesel</td>\n      <td>Hitam</td>\n      <td>Manual</td>\n      <td>MPV</td>\n      <td>&gt;2.000 - 3.000 cc</td>\n      <td>Diler</td>\n      <td>https://www.olx.co.id/item/toyota-innova-g-die...</td>\n      <td>Rp 143.500.000</td>\n      <td>NaN</td>\n    </tr>\n    <tr>\n      <th>2</th>\n      <td>Toyota</td>\n      <td>Kijang Innova</td>\n      <td>2.4 G Solar</td>\n      <td>2017</td>\n      <td>75.000-80.000 km</td>\n      <td>Diesel</td>\n      <td>Putih</td>\n      <td>Manual</td>\n      <td>NaN</td>\n      <td>NaN</td>\n      <td>NaN</td>\n      <td>https://www.olx.co.id/item/innova-reborn-g-die...</td>\n      <td>Rp 280.000.000</td>\n      <td>NaN</td>\n    </tr>\n    <tr>\n      <th>3</th>\n      <td>Nissan</td>\n      <td>March</td>\n      <td>1.2L</td>\n      <td>2013</td>\n      <td>90.000-95.000 km</td>\n      <td>Bensin</td>\n      <td>Hitam</td>\n      <td>Automatic</td>\n      <td>Compact &amp; City Car</td>\n      <td>&gt;1.000 - 1.500 cc</td>\n      <td>Diler</td>\n      <td>https://www.olx.co.id/item/nissan-march-12-l-m...</td>\n      <td>Rp 80.000.000</td>\n      <td>Bursa Mobil Mangga Dua Square</td>\n    </tr>\n    <tr>\n      <th>4</th>\n      <td>Toyota</td>\n      <td>Avanza</td>\n      <td>1.5 Veloz Bensin</td>\n      <td>2012</td>\n      <td>110.000-115.000 km</td>\n      <td>Bensin</td>\n      <td>Hitam</td>\n      <td>Automatic</td>\n      <td>Minibus</td>\n      <td>&gt;1.000 - 1.500 cc</td>\n      <td>Individu</td>\n      <td>https://www.olx.co.id/item/di-jual-avanza-velo...</td>\n      <td>Rp 120.000.000</td>\n      <td>NaN</td>\n    </tr>\n    <tr>\n      <th>...</th>\n      <td>...</td>\n      <td>...</td>\n      <td>...</td>\n      <td>...</td>\n      <td>...</td>\n      <td>...</td>\n      <td>...</td>\n      <td>...</td>\n      <td>...</td>\n      <td>...</td>\n      <td>...</td>\n      <td>...</td>\n      <td>...</td>\n      <td>...</td>\n    </tr>\n    <tr>\n      <th>387</th>\n      <td>Daihatsu</td>\n      <td>Sigra</td>\n      <td>1.2 R Deluxe Bensin</td>\n      <td>2016</td>\n      <td>20.000-25.000 km</td>\n      <td>Bensin</td>\n      <td>Abu-abu</td>\n      <td>Manual</td>\n      <td>Compact &amp; City Car</td>\n      <td>&gt;1.000 - 1.500 cc</td>\n      <td>Diler</td>\n      <td>https://www.olx.co.id/item/sigra-type-paling-t...</td>\n      <td>Rp 97.000.000</td>\n      <td>NaN</td>\n    </tr>\n    <tr>\n      <th>388</th>\n      <td>Toyota</td>\n      <td>Avanza</td>\n      <td>1.3 G Bensin</td>\n      <td>2008</td>\n      <td>125.000-130.000 km</td>\n      <td>Bensin</td>\n      <td>Silver</td>\n      <td>Manual</td>\n      <td>Minibus</td>\n      <td>&gt;1.000 - 1.500 cc</td>\n      <td>Individu</td>\n      <td>https://www.olx.co.id/item/avanza-2008-ad-kara...</td>\n      <td>Rp 88.000.000</td>\n      <td>NaN</td>\n    </tr>\n    <tr>\n      <th>389</th>\n      <td>Toyota</td>\n      <td>Corolla</td>\n      <td>1.6 AE Bensin</td>\n      <td>1996</td>\n      <td>210.000-215.000 km</td>\n      <td>Bensin</td>\n      <td>Abu-abu</td>\n      <td>Manual</td>\n      <td>Sedan</td>\n      <td>&gt;1.500 - 2.000 cc</td>\n      <td>Individu</td>\n      <td>https://www.olx.co.id/item/all-new-corolla-160...</td>\n      <td>Rp 49.000.000</td>\n      <td>NaN</td>\n    </tr>\n    <tr>\n      <th>390</th>\n      <td>Mercedes-Benz</td>\n      <td>C200</td>\n      <td>1.8 W204 Sedan Bensin</td>\n      <td>2011</td>\n      <td>40.000-45.000 km</td>\n      <td>Bensin</td>\n      <td>Hitam</td>\n      <td>Automatic</td>\n      <td>Sedan</td>\n      <td>&gt;1.500 - 2.000 cc</td>\n      <td>Diler</td>\n      <td>https://www.olx.co.id/item/c200-cgi-2011-model...</td>\n      <td>Rp 199.000.000</td>\n      <td>NaN</td>\n    </tr>\n    <tr>\n      <th>391</th>\n      <td>Toyota</td>\n      <td>Vios</td>\n      <td>1.5 G Bensin</td>\n      <td>2007</td>\n      <td>135.000-140.000 km</td>\n      <td>Bensin</td>\n      <td>Hitam</td>\n      <td>Automatic</td>\n      <td>Sedan</td>\n      <td>&gt;1.000 - 1.500 cc</td>\n      <td>Diler</td>\n      <td>https://www.olx.co.id/item/toyota-vios-g-matic...</td>\n      <td>Rp 69.950.000</td>\n      <td>Bursa mobil Bella Tera</td>\n    </tr>\n  </tbody>\n</table>\n<p>392 rows × 14 columns</p>\n</div>"
     },
     "metadata": {},
     "execution_count": 2
    }
   ],
   "source": [
    "pd.DataFrame(mobil_bekas)"
   ]
  },
  {
   "cell_type": "code",
   "execution_count": 3,
   "metadata": {},
   "outputs": [
    {
     "output_type": "execute_result",
     "data": {
      "text/plain": [
       "        Merek   Model Tahun      Jarak tempuh Tipe Penjual  \\\n",
       "0      Yamaha     Mio  2015  35.000-40.000 km     Individu   \n",
       "1       Honda   Vario  2020        0-5.000 km     Individu   \n",
       "2      Yamaha    Fino  2013  35.000-40.000 km     Individu   \n",
       "3      Yamaha     Mio  2011  30.000-35.000 km     Individu   \n",
       "4     Piaggio    S 3V  2013               NaN     Individu   \n",
       "..        ...     ...   ...               ...          ...   \n",
       "277    Suzuki  Satria  2003               NaN     Individu   \n",
       "278  Kawasaki    Kaze  2003  85.000-90.000 km     Individu   \n",
       "279     Honda     CBR  2013  10.000-15.000 km     Individu   \n",
       "280     Honda  Scoopy  2018  40.000-45.000 km     Individu   \n",
       "281     Honda     CBR  2012  25.000-30.000 km     Individu   \n",
       "\n",
       "                                                   url          Harga  \n",
       "0    https://www.olx.co.id/item/mio-125-th2015-sang...   Rp 8.350.000  \n",
       "1    https://www.olx.co.id/item/vario-125-cbs-2020-...  Rp 17.000.000  \n",
       "2    https://www.olx.co.id/item/di-jual-yamaha-fino...   Rp 6.300.000  \n",
       "3    https://www.olx.co.id/item/soul-mx-2011-lengka...   Rp 6.000.000  \n",
       "4    https://www.olx.co.id/item/vespa-s3v-150-cc-ka...  Rp 19.000.000  \n",
       "..                                                 ...            ...  \n",
       "277  https://www.olx.co.id/item/dijual-motor-susuki...  Rp 16.000.000  \n",
       "278  https://www.olx.co.id/item/kaze-r-th-2003-w-me...   Rp 1.275.000  \n",
       "279  https://www.olx.co.id/item/honda-cbr-thailand-...  Rp 13.450.000  \n",
       "280  https://www.olx.co.id/item/scoopy-fi-indling-s...  Rp 15.300.000  \n",
       "281  https://www.olx.co.id/item/dijual-bu-honda-cbr...  Rp 11.000.000  \n",
       "\n",
       "[282 rows x 7 columns]"
      ],
      "text/html": "<div>\n<style scoped>\n    .dataframe tbody tr th:only-of-type {\n        vertical-align: middle;\n    }\n\n    .dataframe tbody tr th {\n        vertical-align: top;\n    }\n\n    .dataframe thead th {\n        text-align: right;\n    }\n</style>\n<table border=\"1\" class=\"dataframe\">\n  <thead>\n    <tr style=\"text-align: right;\">\n      <th></th>\n      <th>Merek</th>\n      <th>Model</th>\n      <th>Tahun</th>\n      <th>Jarak tempuh</th>\n      <th>Tipe Penjual</th>\n      <th>url</th>\n      <th>Harga</th>\n    </tr>\n  </thead>\n  <tbody>\n    <tr>\n      <th>0</th>\n      <td>Yamaha</td>\n      <td>Mio</td>\n      <td>2015</td>\n      <td>35.000-40.000 km</td>\n      <td>Individu</td>\n      <td>https://www.olx.co.id/item/mio-125-th2015-sang...</td>\n      <td>Rp 8.350.000</td>\n    </tr>\n    <tr>\n      <th>1</th>\n      <td>Honda</td>\n      <td>Vario</td>\n      <td>2020</td>\n      <td>0-5.000 km</td>\n      <td>Individu</td>\n      <td>https://www.olx.co.id/item/vario-125-cbs-2020-...</td>\n      <td>Rp 17.000.000</td>\n    </tr>\n    <tr>\n      <th>2</th>\n      <td>Yamaha</td>\n      <td>Fino</td>\n      <td>2013</td>\n      <td>35.000-40.000 km</td>\n      <td>Individu</td>\n      <td>https://www.olx.co.id/item/di-jual-yamaha-fino...</td>\n      <td>Rp 6.300.000</td>\n    </tr>\n    <tr>\n      <th>3</th>\n      <td>Yamaha</td>\n      <td>Mio</td>\n      <td>2011</td>\n      <td>30.000-35.000 km</td>\n      <td>Individu</td>\n      <td>https://www.olx.co.id/item/soul-mx-2011-lengka...</td>\n      <td>Rp 6.000.000</td>\n    </tr>\n    <tr>\n      <th>4</th>\n      <td>Piaggio</td>\n      <td>S 3V</td>\n      <td>2013</td>\n      <td>NaN</td>\n      <td>Individu</td>\n      <td>https://www.olx.co.id/item/vespa-s3v-150-cc-ka...</td>\n      <td>Rp 19.000.000</td>\n    </tr>\n    <tr>\n      <th>...</th>\n      <td>...</td>\n      <td>...</td>\n      <td>...</td>\n      <td>...</td>\n      <td>...</td>\n      <td>...</td>\n      <td>...</td>\n    </tr>\n    <tr>\n      <th>277</th>\n      <td>Suzuki</td>\n      <td>Satria</td>\n      <td>2003</td>\n      <td>NaN</td>\n      <td>Individu</td>\n      <td>https://www.olx.co.id/item/dijual-motor-susuki...</td>\n      <td>Rp 16.000.000</td>\n    </tr>\n    <tr>\n      <th>278</th>\n      <td>Kawasaki</td>\n      <td>Kaze</td>\n      <td>2003</td>\n      <td>85.000-90.000 km</td>\n      <td>Individu</td>\n      <td>https://www.olx.co.id/item/kaze-r-th-2003-w-me...</td>\n      <td>Rp 1.275.000</td>\n    </tr>\n    <tr>\n      <th>279</th>\n      <td>Honda</td>\n      <td>CBR</td>\n      <td>2013</td>\n      <td>10.000-15.000 km</td>\n      <td>Individu</td>\n      <td>https://www.olx.co.id/item/honda-cbr-thailand-...</td>\n      <td>Rp 13.450.000</td>\n    </tr>\n    <tr>\n      <th>280</th>\n      <td>Honda</td>\n      <td>Scoopy</td>\n      <td>2018</td>\n      <td>40.000-45.000 km</td>\n      <td>Individu</td>\n      <td>https://www.olx.co.id/item/scoopy-fi-indling-s...</td>\n      <td>Rp 15.300.000</td>\n    </tr>\n    <tr>\n      <th>281</th>\n      <td>Honda</td>\n      <td>CBR</td>\n      <td>2012</td>\n      <td>25.000-30.000 km</td>\n      <td>Individu</td>\n      <td>https://www.olx.co.id/item/dijual-bu-honda-cbr...</td>\n      <td>Rp 11.000.000</td>\n    </tr>\n  </tbody>\n</table>\n<p>282 rows × 7 columns</p>\n</div>"
     },
     "metadata": {},
     "execution_count": 3
    }
   ],
   "source": [
    "pd.DataFrame(motor_bekas)"
   ]
  },
  {
   "cell_type": "code",
   "execution_count": null,
   "metadata": {},
   "outputs": [],
   "source": []
  }
 ]
}